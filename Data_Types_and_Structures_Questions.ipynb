{
  "nbformat": 4,
  "nbformat_minor": 0,
  "metadata": {
    "colab": {
      "private_outputs": true,
      "provenance": []
    },
    "kernelspec": {
      "name": "python3",
      "display_name": "Python 3"
    },
    "language_info": {
      "name": "python"
    }
  },
  "cells": [
    {
      "cell_type": "markdown",
      "source": [
        "1. What are data structures, and why are they important?\n",
        " - Data structures are essentially ways to arrange and store data in a computer's memory so it can be used efficiently. They define how data elements are related and what operations can be performed on them.\n",
        "   \n",
        "  - Why they are important:\n",
        "  \n",
        "  ~ Efficiency: Choosing the right data structure can drastically improve the speed and efficiency of algorithms and programs.\n",
        "  \n",
        "  ~ Organization: Data structures help to organize data in a way that is easy to understand and manipulate.\n",
        "\n",
        "  ~ Scalability: They allow programs to handle large amounts of data efficiently.\n",
        "\n",
        "  ~ Problem-solving: They provide a framework for solving complex problems by breaking them down into smaller, more manageable tasks.\n",
        "\n",
        "  ~ Coding interviews: A strong understanding of data structures is crucial for coding interviews and technical roles.\n",
        "\n",
        "\n",
        "2.   Explain the difference between mutable and immutable data types with examples.\n",
        " - mutable data types allow their values to be modified after creation, while immutable data types cannot be changed once created.\n",
        "\n",
        "  - Mutable Data Types:\n",
        "  \n",
        "   ~ Lists: Lists are ordered collections of items that can be changed. You can add, remove, or modify elements after the list is created.\n",
        "  \n",
        "   ~ Dictionaries: Dictionaries store data in key-value pairs, and their contents can be changed.\n",
        "\n",
        "   ~ Sets: Sets are unordered collections of unique items. Elements can be added or removed after the set is created, according to Dataquest.\n",
        "\n",
        "  - Immutable Data Types:\n",
        "\n",
        "  ~ Strings: Strings are sequences of characters and cannot be modified after creation.\n",
        "\n",
        "  ~ Tuples: Tuples are ordered collections of items, but unlike lists, they cannot be modified after creation.\n",
        "\n",
        "3.  What are the main differences between lists and tuples in Python?\n",
        "  - Mutability: Lists are mutable, meaning their elements can be changed after creation (elements can be added, removed, or modified). Tuples, on the other hand, are immutable; once a tuple is created, its elements cannot be changed.\n",
        "\n",
        "  - Syntax: Lists are defined using square brackets [], while tuples are defined using parentheses ().\n",
        "\n",
        "  - Use Cases: Lists are commonly used for collections of items that may need to be modified, such as shopping carts, task lists, or data buffers. Tuples are suitable for representing fixed collections of items, like database records, coordinates, or configuration settings.\n",
        "\n",
        "  - Performance: Tuples are generally more memory-efficient and faster than lists due to their immutability.\n",
        "\n",
        "  - Methods: Lists have more built-in methods for modifying their contents (e.g., append(), extend(), insert(), remove(), pop()), while tuples have fewer methods due to their immutable nature.\n",
        "\n",
        "  - Usability as Dictionary Keys: Tuples can be used as keys in dictionaries because they are immutable, whereas lists cannot be used as dictionary keys because they are mutable.\n",
        "\n",
        "4.  Describe how dictionaries store data?\n",
        "  - Dictionaries are unordered collections of data and are represented with curly brackets { } . Like lists, dictionaries are mutable(changeable) and indexed. With dictionaries, data is stored in a key:value format.\n",
        "\n",
        "5.  Why might you use a set instead of a list in Python?\n",
        "  - Sets and lists serve different purposes in Python, leading to distinct use cases. Sets are unordered collections of unique elements, while lists are ordered collections that can contain duplicates. This fundamental difference dictates when one might be preferred over the other.\n",
        "\n",
        "6. What is a string in Python, and how is it different from a list?\n",
        "  - String is a sequence of character represent and manipulate textual data.\n",
        "\n",
        "  ~ DIFFERENT FROM A LIST\n",
        "\n",
        "  i) - Strings in Python are sequences of characters enclosed in quotes ('' or “”). Lists are ordered collections of items enclosed in square brackets [].\n",
        "  \n",
        "  ii)- Strings are immutable, meaning they cannot be changed once created, while lists are mutable and can be modified as needed.\n",
        "\n",
        "7. How do tuples ensure data integrity in Python?\n",
        "  - Tuples in Python ensure data integrity through their immutability. Once a tuple is created, its elements cannot be modified, added, or removed. This characteristic guarantees that the data stored within a tuple remains constant throughout its lifecycle, preventing accidental or unauthorized changes.\n",
        "\n",
        "8. What is a hash table, and how does it relate to dictionaries in Python?\n",
        "  - The Dictionary data types represent the implementation of hash tables. The Keys in the dictionary are hashable–they are generated by a hash function which generates a unique result for each unique value supplied to the hash function.\n",
        "\n",
        "9. Can lists contain different data types in Python?\n",
        "  - Yes, lists in Python can contain elements of different data types. This is a key feature of Python lists, making them highly flexible and versatile. A single list can hold integers, strings, floats, booleans, and even other lists or more complex objects.\n",
        "\n",
        "10. Explain why strings are immutable in Python.\n",
        "  - Strings are immutable because this characteristic simplifies programming, enhances security, and improves efficiency. Immutability ensures that once a string is created, its value remains constant throughout its lifetime.\n",
        "\n",
        "11. What advantages do dictionaries offer over lists for certain tasks?\n",
        "  - Fast lookups: Dictionaries utilize hash tables, enabling quick access to values based on their keys. This contrasts with lists, where searching for a specific element necessitates traversing the list sequentially.\n",
        "\n",
        "  - Key-value pairs: Dictionaries store data as key-value pairs, facilitating the association and retrieval of related information. This structure proves more intuitive and efficient than using index-based access in lists, especially when dealing with labeled data.\n",
        "\n",
        "  - Flexibility: Dictionaries can accommodate keys of any immutable data type (e.g., strings, numbers, tuples) and values of any data type. This flexibility allows for storing diverse and complex data structures, whereas lists are typically used for homogenous data.\n",
        "   \n",
        "  - Efficiency for large datasets: Due to their fast lookup capabilities, dictionaries excel at handling large amounts of data. Retrieving a value from a dictionary remains efficient even with numerous entries, whereas searching a large list can become time-consuming.\n",
        "  \n",
        "  - Built-in methods: Python dictionaries provide a rich set of built-in methods for data manipulation, such as get(), keys(), values(), and items(). These methods simplify common tasks like retrieving values, accessing keys or values, and iterating through the dictionary.\n",
        "\n",
        "12. Describe a scenario where using a tuple would be preferable over a list.\n",
        "  - A scenario where using a tuple would be preferable over a list is when you need to store a fixed collection of values that should not change, such as coordinates or configuration settings.\n",
        "\n",
        "13. How do sets handle duplicate values in Python?\n",
        "  - Sets in Python are designed to store only unique elements. When a duplicate value is added to a set, it is automatically discarded, ensuring that the set contains only distinct values. This behavior is fundamental to the nature of sets as unordered collections of unique items.\n",
        "\n",
        "14. How does the “in” keyword work differently for lists and dictionaries?\n",
        "  - List : The 'in' keyword checks if a value exists as an element in the list.\n",
        "\n",
        "  - Dictionaries : The in keyword checks if a key exists in the dictionary (not the value).\n",
        "\n",
        "15. Can you modify the elements of a tuple? Explain why or why not.\n",
        "  - No, you cannot directly modify the elements of a tuple in Python. Tuples are immutable, meaning their contents cannot be changed after creation. This is a key difference between tuples and lists, which are mutable.\n",
        "\n",
        "16.  What is a nested dictionary, and give an example of its use case?\n",
        "  - A nested dictionary is a dictionary where the value of one or more keys is another dictionary. It's essentially a dictionary within a dictionary, allowing for more complex data structures and organization. A common use case is representing hierarchical data like an employee directory with each employee having their own dictionary of details.\n",
        "\n",
        "17. Describe the time complexity of accessing elements in a dictionary.\n",
        "  - Accessing elements in a dictionary in Python has an average-case time complexity of O(1) — constant time.\n",
        "\n",
        " Why O(1) on average?\n",
        "\n",
        "  - Python dictionaries are implemented as hash tables. When you access an element using a key like value = my_dict['key']:\n",
        "\n",
        "~ Python hashes the key.\n",
        "\n",
        "(i) It uses that hash to compute an index.\n",
        "\n",
        "(ii) It goes directly to that index to retrieve the value.\n",
        "\n",
        "(iii) This process is fast and does not depend on the size of the dictionary.\n",
        "\n",
        "  - This process is fast and does not depend on the size of the dictionary.\n",
        "\n",
        "18. In what situations are lists preferred over dictionaries?\n",
        "  - For quick data look-ups, configurations, or caches, favor dictionaries. For ordered collections and sequence operations, such as maintaining a stack or queue, lists are more suitable.\n",
        "\n",
        "19. Why are dictionaries considered unordered, and how does that affect data retrieval?\n",
        "  - Dictionaries in Python were historically considered unordered because they did not preserve the insertion order of keys. This meant that when you iterated over a dictionary (e.g., in a for loop), the order in which you added key-value pairs wasn't guaranteed to be the same as the order in which they came out.\n",
        "\n",
        "   How it Affects Data Retrieval?\n",
        "  \n",
        "  - ~  Key Lookup (d['key']): Always constant time (O(1)) and not affected by order.\n",
        "\n",
        "    ~ Iteration (for key in d):\n",
        "\n",
        "    ~ Before Python 3.7: Unpredictable order.\n",
        "\n",
        "    ~ Python 3.7 and later: Insertion order is preserved.\n",
        "\n",
        "So in modern Python, order is preserved when iterating, but it has no effect on random access, which remains based on key hashing.\n",
        "\n",
        "20. Explain the difference between a list and a dictionary in terms of data retrieval.\n",
        "  - In terms of data retrieval, a dictionary offers significantly faster lookup of values based on unique keys compared to a list, which relies on numerical indices. Dictionaries, using a hash table, can find values associated with a key in an average of O(1) (constant) time, while lists, requiring sequential searching, have an average time complexity of O(n) (linear)."
      ],
      "metadata": {
        "id": "jGIHJQnKTbGf"
      }
    },
    {
      "cell_type": "markdown",
      "source": [
        "# Practical Questions"
      ],
      "metadata": {
        "id": "8BG5CoujR7Yr"
      }
    },
    {
      "cell_type": "markdown",
      "source": [
        "1. Write a code to create a string with your name and print it?"
      ],
      "metadata": {
        "id": "iZ1T4RjCSFpa"
      }
    },
    {
      "cell_type": "code",
      "execution_count": null,
      "metadata": {
        "id": "bfaiUmGiSWUK"
      },
      "outputs": [],
      "source": [
        "print(\"Hrishabh Sandilya\")"
      ]
    },
    {
      "cell_type": "markdown",
      "source": [
        "2. Write a code to find the length of the string \"Hello World\"."
      ],
      "metadata": {
        "id": "EhIPKd2zSh2n"
      }
    },
    {
      "cell_type": "code",
      "source": [
        "len(\"Hello World\")"
      ],
      "metadata": {
        "id": "oLHYQec6SZbv"
      },
      "execution_count": null,
      "outputs": []
    },
    {
      "cell_type": "markdown",
      "source": [
        "3. Write a code to slice the first 3 characters from the string \"Python Programming\"."
      ],
      "metadata": {
        "id": "Y9lvJWnDS0O9"
      }
    },
    {
      "cell_type": "code",
      "source": [
        "\"Python Programming\"[:3]"
      ],
      "metadata": {
        "id": "e_H9T3ztSvGg"
      },
      "execution_count": null,
      "outputs": []
    },
    {
      "cell_type": "markdown",
      "source": [
        "4. Write a code to convert the string \"hello\" to uppercase."
      ],
      "metadata": {
        "id": "7AK2pZngT0_C"
      }
    },
    {
      "cell_type": "code",
      "source": [
        "text= \"hello\"\n",
        "text.upper()\n"
      ],
      "metadata": {
        "id": "KkkCY6cJULLo"
      },
      "execution_count": null,
      "outputs": []
    },
    {
      "cell_type": "markdown",
      "source": [
        "5. Write a code to replace the word \"apple\" with \"orange\" in the string \"I like apple."
      ],
      "metadata": {
        "id": "IdoJbwZuUjJp"
      }
    },
    {
      "cell_type": "code",
      "source": [
        "s= \"I like apple\"\n",
        "s.replace(\"apple\", (\"orange\"))"
      ],
      "metadata": {
        "id": "rryEQZAMUb8M"
      },
      "execution_count": null,
      "outputs": []
    },
    {
      "cell_type": "markdown",
      "source": [
        "6. Write a code to create a list with numbers 1 to 5 and print it."
      ],
      "metadata": {
        "id": "0Hp_NyDFVTpu"
      }
    },
    {
      "cell_type": "code",
      "source": [
        "l=[1, 2, 3, 4, 5]"
      ],
      "metadata": {
        "id": "ZfR6q6g6VOw6"
      },
      "execution_count": null,
      "outputs": []
    },
    {
      "cell_type": "code",
      "source": [
        "l"
      ],
      "metadata": {
        "id": "OteqFNPUVjmu"
      },
      "execution_count": null,
      "outputs": []
    },
    {
      "cell_type": "markdown",
      "source": [
        "7. Write a code to append the number 10 to the list [1, 2, 3, 4]."
      ],
      "metadata": {
        "id": "urCOQHgWV6cz"
      }
    },
    {
      "cell_type": "code",
      "source": [
        "lis=[1, 2, 3, 4]\n",
        "lis.append(10)\n",
        "lis"
      ],
      "metadata": {
        "id": "KLAJImcIVlR4"
      },
      "execution_count": null,
      "outputs": []
    },
    {
      "cell_type": "markdown",
      "source": [
        "8. Write a code to remove the number 3 from the list [1, 2, 3, 4, 5]."
      ],
      "metadata": {
        "id": "KdWnlaUgWbE-"
      }
    },
    {
      "cell_type": "code",
      "source": [
        "lis= [1, 2, 3, 4, 5]\n",
        "lis.remove(3)\n",
        "lis"
      ],
      "metadata": {
        "id": "X5XhGkSBWYUN"
      },
      "execution_count": null,
      "outputs": []
    },
    {
      "cell_type": "markdown",
      "source": [
        "9. Write a code to access the second element in the list ['a', 'b', 'c', 'd']."
      ],
      "metadata": {
        "id": "pCG6FV9sYgRt"
      }
    },
    {
      "cell_type": "code",
      "source": [
        "my_list = ['a', 'b', 'c', 'd']\n",
        "my_list[1]\n"
      ],
      "metadata": {
        "id": "Ujlq-oXBW85r"
      },
      "execution_count": null,
      "outputs": []
    },
    {
      "cell_type": "markdown",
      "source": [
        "10. Write a code to reverse the list [10, 20, 30, 40, 50]."
      ],
      "metadata": {
        "id": "yfbvgqeNZRhp"
      }
    },
    {
      "cell_type": "code",
      "source": [
        "lis=[10, 20, 30, 40, 50]\n",
        "lis.reverse()\n",
        "lis"
      ],
      "metadata": {
        "id": "Osu-MtKKZHja"
      },
      "execution_count": null,
      "outputs": []
    },
    {
      "cell_type": "markdown",
      "source": [
        " 11. Write a code to create a tuple with the elements 100, 200, 300 and print it."
      ],
      "metadata": {
        "id": "WNNXO1kjbE2Z"
      }
    },
    {
      "cell_type": "code",
      "source": [
        "t=(100, 200, 300)\n",
        "t"
      ],
      "metadata": {
        "id": "mC3e93QBa4aP"
      },
      "execution_count": null,
      "outputs": []
    },
    {
      "cell_type": "markdown",
      "source": [
        "12. Write a code to access the second-to-last element of the tuple ('red', 'green', 'blue', 'yellow')."
      ],
      "metadata": {
        "id": "jFnqjtWrbiXX"
      }
    },
    {
      "cell_type": "code",
      "source": [
        "t= ('red', 'green', 'blue', 'yellow')\n",
        "t[-2]"
      ],
      "metadata": {
        "id": "i8ZDXyzSbhB9"
      },
      "execution_count": null,
      "outputs": []
    },
    {
      "cell_type": "markdown",
      "source": [
        "13. Write a code to find the minimum number in the tuple (10, 20, 5, 15)."
      ],
      "metadata": {
        "id": "BXNuIN5ncIqW"
      }
    },
    {
      "cell_type": "code",
      "source": [
        "t= (10, 20, 5, 15)\n",
        "min(t)\n"
      ],
      "metadata": {
        "id": "krppurk4cGU_"
      },
      "execution_count": null,
      "outputs": []
    },
    {
      "cell_type": "markdown",
      "source": [
        "14. Write a code to find the index of the element \"cat\" in the tuple ('dog', 'cat', 'rabbit').\n"
      ],
      "metadata": {
        "id": "Ez8vbtKUcpIo"
      }
    },
    {
      "cell_type": "code",
      "source": [
        "t= ('dog', 'cat', 'rabbit')\n",
        "t.index(\"cat\")"
      ],
      "metadata": {
        "id": "N4ZFjmJmcfI9"
      },
      "execution_count": null,
      "outputs": []
    },
    {
      "cell_type": "markdown",
      "source": [
        "15. Write a code to create a tuple containing three different fruits and check if \"kiwi\" is in it."
      ],
      "metadata": {
        "id": "8uDPS7sSc78W"
      }
    },
    {
      "cell_type": "code",
      "source": [
        "t=(\"apple\", \"banana\", \"kiwi\")\n",
        "\"kiwi\" in t"
      ],
      "metadata": {
        "id": "01LCilCSc40J"
      },
      "execution_count": null,
      "outputs": []
    },
    {
      "cell_type": "markdown",
      "source": [
        "16. Write a code to create a set with the elements 'a', 'b', 'c' and print it."
      ],
      "metadata": {
        "id": "owjpD-ehdO1T"
      }
    },
    {
      "cell_type": "code",
      "source": [
        "s={ 'a', 'b', 'c' }\n",
        "s"
      ],
      "metadata": {
        "id": "258UN1W1dM29"
      },
      "execution_count": null,
      "outputs": []
    },
    {
      "cell_type": "markdown",
      "source": [
        "17. Write a code to clear all elements from the set {1, 2, 3, 4, 5}."
      ],
      "metadata": {
        "id": "k2w_68eRdgs_"
      }
    },
    {
      "cell_type": "code",
      "source": [
        "set= {1, 2, 3, 4, 5}\n",
        "set.clear()\n",
        "set"
      ],
      "metadata": {
        "id": "GwZQWq4QdbSx"
      },
      "execution_count": null,
      "outputs": []
    },
    {
      "cell_type": "markdown",
      "source": [
        "18. Write a code to remove the element 4 from the set {1, 2, 3, 4}.\n",
        "\n"
      ],
      "metadata": {
        "id": "Wu1ogb7hdunc"
      }
    },
    {
      "cell_type": "code",
      "source": [
        "set= {1, 2, 3, 4}\n",
        "set.remove(4)\n",
        "set"
      ],
      "metadata": {
        "id": "9vzbTkd4dsNv"
      },
      "execution_count": null,
      "outputs": []
    },
    {
      "cell_type": "markdown",
      "source": [
        "19. Write a code to find the union of two sets {1, 2, 3} and {3, 4, 5}."
      ],
      "metadata": {
        "id": "ktnVhobHeFFw"
      }
    },
    {
      "cell_type": "code",
      "source": [
        "s1= {1, 2, 3}\n",
        "s2= {3, 4, 5}\n",
        "s1|s2\n"
      ],
      "metadata": {
        "id": "NWG61b5DeAkV"
      },
      "execution_count": null,
      "outputs": []
    },
    {
      "cell_type": "markdown",
      "source": [
        "20. Write a code to find the intersection of two sets {1, 2, 3} and {2, 3, 4}."
      ],
      "metadata": {
        "id": "XvA8ZG7xe13U"
      }
    },
    {
      "cell_type": "code",
      "source": [
        "s1= {1, 2, 3}\n",
        "s2= {2, 3, 4}\n",
        "s1&s2"
      ],
      "metadata": {
        "id": "NdnwMLNWeo5u"
      },
      "execution_count": null,
      "outputs": []
    },
    {
      "cell_type": "markdown",
      "source": [
        "21. Write a code to create a dictionary with the keys \"name\", \"age\", and \"city\", and print it."
      ],
      "metadata": {
        "id": "ohQOemKRfMZ8"
      }
    },
    {
      "cell_type": "code",
      "source": [
        "d={\"name\": \"Hrihabh Sandilya\", \"age\": 24, \"city\": \"Korba\"}\n",
        "d"
      ],
      "metadata": {
        "id": "WC2xFjiEfHC6"
      },
      "execution_count": null,
      "outputs": []
    },
    {
      "cell_type": "markdown",
      "source": [
        "22. Write a code to add a new key-value pair \"country\": \"USA\" to the dictionary {'name': 'John', 'age': 25}."
      ],
      "metadata": {
        "id": "qe_kt38tfvMm"
      }
    },
    {
      "cell_type": "code",
      "source": [
        "d={'name': 'John', 'age': 25}\n",
        "d.update({\"country\": \"USA\"})\n",
        "d"
      ],
      "metadata": {
        "id": "K2kS2aSUfqnI"
      },
      "execution_count": null,
      "outputs": []
    },
    {
      "cell_type": "markdown",
      "source": [
        "23. Write a code to access the value associated with the key \"name\" in the dictionary {'name': 'Alice', 'age': 30}."
      ],
      "metadata": {
        "id": "rZdc95jhhOiq"
      }
    },
    {
      "cell_type": "code",
      "source": [
        "d=  {'name': 'Alice', 'age': 30}\n",
        "d[\"name\"]"
      ],
      "metadata": {
        "id": "SEo3JZ1GgmSk"
      },
      "execution_count": null,
      "outputs": []
    },
    {
      "cell_type": "markdown",
      "source": [
        "24. Write a code to remove the key \"age\" from the dictionary {'name': 'Bob', 'age': 22, 'city': 'New York'}."
      ],
      "metadata": {
        "id": "fdd4cN0yhqUd"
      }
    },
    {
      "cell_type": "code",
      "source": [
        "d=  {'name': 'Bob', 'age': 22, 'city': 'New York'}\n",
        "del d [\"age\"]\n",
        "d\n"
      ],
      "metadata": {
        "id": "JDb20oo5hm38"
      },
      "execution_count": null,
      "outputs": []
    },
    {
      "cell_type": "markdown",
      "source": [
        "25. Write a code to check if the key \"city\" exists in the dictionary {'name': 'Alice', 'city': 'Paris'}."
      ],
      "metadata": {
        "id": "50_YGVrtik1d"
      }
    },
    {
      "cell_type": "code",
      "source": [
        "d=  {'name': 'Alice', 'city': 'Paris'}\n",
        "\"city\" in d"
      ],
      "metadata": {
        "id": "9i0LrdfCiB-t"
      },
      "execution_count": null,
      "outputs": []
    },
    {
      "cell_type": "markdown",
      "source": [
        "26. Write a code to create a list, a tuple, and a dictionary, and print them all."
      ],
      "metadata": {
        "id": "2sctVi8njKbW"
      }
    },
    {
      "cell_type": "code",
      "source": [
        " my_list = [\"a\", 1, \"Python\", 5]\n",
        " my_list"
      ],
      "metadata": {
        "id": "fqPty6ghi9t4"
      },
      "execution_count": null,
      "outputs": []
    },
    {
      "cell_type": "code",
      "source": [
        "my_tuple = (1, 2, 3, 4, 5)\n",
        "my_tuple[0:3]"
      ],
      "metadata": {
        "id": "ozFzGmgwlsoA"
      },
      "execution_count": null,
      "outputs": []
    },
    {
      "cell_type": "code",
      "source": [
        "my_other_dict = {\"one\":1, \"two\":2, \"three\":3}\n",
        "my_other_dict"
      ],
      "metadata": {
        "id": "wBRn6GyGl6l6"
      },
      "execution_count": null,
      "outputs": []
    },
    {
      "cell_type": "markdown",
      "source": [
        "27. Write a code to create a list of 5 random numbers between 1 and 100, sort it in ascending order, and print the\n",
        "result.(replaced)"
      ],
      "metadata": {
        "id": "2eZbJ_RnmJ2g"
      }
    },
    {
      "cell_type": "code",
      "source": [
        "import random\n",
        "n = 5\n",
        "lis = random.sample(range(1, 101), n)\n",
        "\n",
        "print(lis)"
      ],
      "metadata": {
        "id": "FseBWuRnmG5V"
      },
      "execution_count": null,
      "outputs": []
    },
    {
      "cell_type": "code",
      "source": [
        "lis.sort()\n",
        "lis"
      ],
      "metadata": {
        "id": "oGApLaucnDxM"
      },
      "execution_count": null,
      "outputs": []
    },
    {
      "cell_type": "markdown",
      "source": [
        "28. Write a code to create a list with strings and print the element at the third index."
      ],
      "metadata": {
        "id": "YSCHsN29o_OM"
      }
    },
    {
      "cell_type": "code",
      "source": [
        "string_list = [\"apple\", \"banana\", \"cherry\", \"date\", \"elderberry\"]\n",
        "print(\"Element at index 3:\", string_list[3])"
      ],
      "metadata": {
        "id": "jbW8TMW2odB-"
      },
      "execution_count": null,
      "outputs": []
    },
    {
      "cell_type": "markdown",
      "source": [
        "29. Write a code to combine two dictionaries into one and print the result."
      ],
      "metadata": {
        "id": "5ru0dACsq2Sh"
      }
    },
    {
      "cell_type": "code",
      "source": [
        "dict1 = {\"a\": 1, \"b\": 2}\n",
        "dict2 = {\"c\": 3, \"d\": 4}\n",
        "combined_dict = {**dict1, **dict2}\n",
        "print(\"Combined dictionary:\", combined_dict)"
      ],
      "metadata": {
        "id": "_icFrC6oqmdO"
      },
      "execution_count": null,
      "outputs": []
    },
    {
      "cell_type": "markdown",
      "source": [
        "30. Write a code to convert a list of strings into a set."
      ],
      "metadata": {
        "id": "hsm7AFlyr5V3"
      }
    },
    {
      "cell_type": "code",
      "source": [
        "my_list = [\"apple\", \"banana\", \"cherry\", \"apple\"]\n",
        "my_set = (my_list)\n",
        "print(my_set)"
      ],
      "metadata": {
        "id": "mK-Lei-Zr2ss"
      },
      "execution_count": null,
      "outputs": []
    },
    {
      "cell_type": "code",
      "source": [],
      "metadata": {
        "id": "pCodcmiQsLl8"
      },
      "execution_count": null,
      "outputs": []
    }
  ]
}